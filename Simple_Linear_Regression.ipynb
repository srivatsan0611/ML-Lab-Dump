{
 "cells": [
  {
   "cell_type": "code",
   "execution_count": 1,
   "id": "1c42ecb7-2b18-4108-b716-3e09d285c345",
   "metadata": {},
   "outputs": [],
   "source": [
    "import pandas as pd\n",
    "import numpy as np"
   ]
  },
  {
   "cell_type": "code",
   "execution_count": 2,
   "id": "85cd7eac-a8f0-4012-9913-efc108d73656",
   "metadata": {},
   "outputs": [
    {
     "data": {
      "text/html": [
       "<div>\n",
       "<style scoped>\n",
       "    .dataframe tbody tr th:only-of-type {\n",
       "        vertical-align: middle;\n",
       "    }\n",
       "\n",
       "    .dataframe tbody tr th {\n",
       "        vertical-align: top;\n",
       "    }\n",
       "\n",
       "    .dataframe thead th {\n",
       "        text-align: right;\n",
       "    }\n",
       "</style>\n",
       "<table border=\"1\" class=\"dataframe\">\n",
       "  <thead>\n",
       "    <tr style=\"text-align: right;\">\n",
       "      <th></th>\n",
       "      <th>x</th>\n",
       "      <th>y</th>\n",
       "    </tr>\n",
       "  </thead>\n",
       "  <tbody>\n",
       "    <tr>\n",
       "      <th>0</th>\n",
       "      <td>17</td>\n",
       "      <td>94</td>\n",
       "    </tr>\n",
       "    <tr>\n",
       "      <th>1</th>\n",
       "      <td>13</td>\n",
       "      <td>73</td>\n",
       "    </tr>\n",
       "    <tr>\n",
       "      <th>2</th>\n",
       "      <td>12</td>\n",
       "      <td>59</td>\n",
       "    </tr>\n",
       "    <tr>\n",
       "      <th>3</th>\n",
       "      <td>15</td>\n",
       "      <td>80</td>\n",
       "    </tr>\n",
       "    <tr>\n",
       "      <th>4</th>\n",
       "      <td>16</td>\n",
       "      <td>93</td>\n",
       "    </tr>\n",
       "  </tbody>\n",
       "</table>\n",
       "</div>"
      ],
      "text/plain": [
       "    x   y\n",
       "0  17  94\n",
       "1  13  73\n",
       "2  12  59\n",
       "3  15  80\n",
       "4  16  93"
      ]
     },
     "execution_count": 2,
     "metadata": {},
     "output_type": "execute_result"
    }
   ],
   "source": [
    "data = pd.read_csv(\"data1.csv\")\n",
    "data.head()"
   ]
  },
  {
   "cell_type": "code",
   "execution_count": 3,
   "id": "a509c23c-a59c-491f-8d18-0ff3f60bb465",
   "metadata": {},
   "outputs": [
    {
     "name": "stdout",
     "output_type": "stream",
     "text": [
      "<class 'pandas.core.frame.DataFrame'>\n",
      "RangeIndex: 120 entries, 0 to 119\n",
      "Data columns (total 2 columns):\n",
      " #   Column  Non-Null Count  Dtype\n",
      "---  ------  --------------  -----\n",
      " 0   x       120 non-null    int64\n",
      " 1   y       120 non-null    int64\n",
      "dtypes: int64(2)\n",
      "memory usage: 2.0 KB\n"
     ]
    }
   ],
   "source": [
    "data.info()"
   ]
  },
  {
   "cell_type": "code",
   "execution_count": 4,
   "id": "e8bf799a-e84d-417f-8696-9c3fade15903",
   "metadata": {},
   "outputs": [],
   "source": [
    "x_train = data.iloc[:100,:-1].values\n",
    "x_test = data.iloc[100:120,:-1].values"
   ]
  },
  {
   "cell_type": "code",
   "execution_count": 40,
   "id": "49be02f8-c8d5-4d8d-ba8d-f818045c8110",
   "metadata": {},
   "outputs": [
    {
     "data": {
      "text/plain": [
       "array([94, 73, 59, 80, 93, 85, 66, 79, 77, 91, 94, 73, 59, 80, 93, 85, 66,\n",
       "       79, 77, 91], dtype=int64)"
      ]
     },
     "execution_count": 40,
     "metadata": {},
     "output_type": "execute_result"
    }
   ],
   "source": [
    "y_train = data.iloc[:100,-1].values\n",
    "y_test = data.iloc[100:120,-1].values\n",
    "\n",
    "y_test"
   ]
  },
  {
   "cell_type": "code",
   "execution_count": 41,
   "id": "7093dc8e-da1e-45c5-b3de-37022050b0e6",
   "metadata": {},
   "outputs": [],
   "source": [
    "def linear_regression(x,y):\n",
    "    n = len(x)\n",
    "    \n",
    "    x_mean = x.mean()\n",
    "    y_mean = y.mean()\n",
    "    num = 0\n",
    "    dem = 0\n",
    "    for i in range (n):\n",
    "        num += (x[i]-x_mean) * (y[i]-y_mean)\n",
    "        dem += np.sqrt((x[i]-x_mean)**2 * (y[i]-y_mean)**2) \n",
    "    \n",
    "    r = num/dem\n",
    "    \n",
    "    Sy = np.sum(np.sqrt((y-y_mean)**2))/n-1\n",
    "    Sx = np.sum(np.sqrt((x-x_mean)**2))/n-1\n",
    "    \n",
    "    m = r * (Sy/Sx)\n",
    "    \n",
    "    c = y_mean - (m*x_mean)\n",
    "    \n",
    "    return m,c"
   ]
  },
  {
   "cell_type": "code",
   "execution_count": 42,
   "id": "1e0e735b-c77c-4abc-a7b0-230d31a7e86d",
   "metadata": {},
   "outputs": [],
   "source": [
    "def rmse(y_test,y_pred):\n",
    "    return np.sqrt(np.mean((y_test - y_pred)**2))"
   ]
  },
  {
   "cell_type": "code",
   "execution_count": 43,
   "id": "ef5e1235-5547-4710-a96e-886179b85ff9",
   "metadata": {},
   "outputs": [],
   "source": [
    "def mae(y_test,y_pred):\n",
    "    return np.mean(np.abs((y_test-y_pred)))"
   ]
  },
  {
   "cell_type": "code",
   "execution_count": 44,
   "id": "c6d97cb0-f5b6-40d9-b9ff-e3ad0e5b8fb4",
   "metadata": {},
   "outputs": [],
   "source": [
    "m, c = linear_regression(x_train,y_train)"
   ]
  },
  {
   "cell_type": "code",
   "execution_count": 45,
   "id": "d79f74c5-8bea-4861-af4b-ff3c77befc1d",
   "metadata": {},
   "outputs": [
    {
     "name": "stdout",
     "output_type": "stream",
     "text": [
      "Slope -> [8.86783026] and Intersept -> [-58.63815202]\n"
     ]
    }
   ],
   "source": [
    "print(f\"Slope -> {m} and Intersept -> {c}\") "
   ]
  },
  {
   "cell_type": "code",
   "execution_count": 46,
   "id": "73956f69-41a1-4e88-a92e-2f9bd5dbd4c1",
   "metadata": {},
   "outputs": [
    {
     "data": {
      "text/plain": [
       "array([[ 92.11496236],\n",
       "       [ 56.64364133],\n",
       "       [ 47.77581107],\n",
       "       [ 74.37930185],\n",
       "       [ 83.2471321 ],\n",
       "       [ 65.51147159],\n",
       "       [ 83.2471321 ],\n",
       "       [ 83.2471321 ],\n",
       "       [100.98279262],\n",
       "       [109.85062288],\n",
       "       [ 92.11496236],\n",
       "       [ 56.64364133],\n",
       "       [ 47.77581107],\n",
       "       [ 74.37930185],\n",
       "       [ 83.2471321 ],\n",
       "       [ 65.51147159],\n",
       "       [ 83.2471321 ],\n",
       "       [ 83.2471321 ],\n",
       "       [100.98279262],\n",
       "       [109.85062288]])"
      ]
     },
     "execution_count": 46,
     "metadata": {},
     "output_type": "execute_result"
    }
   ],
   "source": [
    "y_pred = m *x_test + c\n",
    "y_pred"
   ]
  },
  {
   "cell_type": "code",
   "execution_count": 47,
   "id": "5b267aef-7332-4437-93e8-6c7085f9972d",
   "metadata": {},
   "outputs": [
    {
     "name": "stdout",
     "output_type": "stream",
     "text": [
      "RMSE 21.308141006688302\n"
     ]
    }
   ],
   "source": [
    "print(\"RMSE\",rmse(y_test,y_pred))"
   ]
  },
  {
   "cell_type": "code",
   "execution_count": 48,
   "id": "07115631-fbbf-43f2-bbae-9e2e5c73d207",
   "metadata": {},
   "outputs": [
    {
     "name": "stdout",
     "output_type": "stream",
     "text": [
      "MAE 17.38703217640396\n"
     ]
    }
   ],
   "source": [
    "print(\"MAE\",mae(y_test,y_pred))"
   ]
  },
  {
   "cell_type": "code",
   "execution_count": 49,
   "id": "ae9f1e0f-6024-4da7-80ff-ffb173b70feb",
   "metadata": {},
   "outputs": [
    {
     "data": {
      "image/png": "[encoded data removed]",
      "text/plain": [
       "<Figure size 640x480 with 1 Axes>"
      ]
     },
     "metadata": {},
     "output_type": "display_data"
    }
   ],
   "source": [
    "import matplotlib.pyplot as plt\n",
    "\n",
    "plt.scatter(x_test,y_test)\n",
    "plt.plot(x_test,y_pred,c=\"red\")\n",
    "plt.show()"
   ]
  },
  {
   "cell_type": "code",
   "execution_count": 72,
   "id": "aa78ef82-f757-4568-8e4a-b201427d09af",
   "metadata": {},
   "outputs": [],
   "source": [
    "X = data.iloc[:,:-1].values\n",
    "y = data.iloc[:,-1].values\n",
    "\n",
    "Y_pred = m*X + c"
   ]
  },
  {
   "cell_type": "code",
   "execution_count": 73,
   "id": "93a9a531-9f17-4d10-bb1e-92724a79b09d",
   "metadata": {},
   "outputs": [
    {
     "data": {
      "image/png": "[encoded data removed]",
      "text/plain": [
       "<Figure size 640x480 with 1 Axes>"
      ]
     },
     "metadata": {},
     "output_type": "display_data"
    }
   ],
   "source": [
    "plt.scatter(X,y)\n",
    "plt.plot(X,Y_pred,color = \"red\")\n",
    "plt.show()"
   ]
  },
  {
   "cell_type": "code",
   "execution_count": null,
   "id": "c829d1ed-ef8b-4f17-9cc8-b937d3d5418c",
   "metadata": {},
   "outputs": [],
   "source": []
  }
 ],
 "metadata": {
  "kernelspec": {
   "display_name": "Python 3 (ipykernel)",
   "language": "python",
   "name": "python3"
  },
  "language_info": {
   "codemirror_mode": {
    "name": "ipython",
    "version": 3
   },
   "file_extension": ".py",
   "mimetype": "text/x-python",
   "name": "python",
   "nbconvert_exporter": "python",
   "pygments_lexer": "ipython3",
   "version": "3.9.13"
  }
 },
 "nbformat": 4,
 "nbformat_minor": 5
}
