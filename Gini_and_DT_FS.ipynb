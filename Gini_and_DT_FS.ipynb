{
 "cells": [
  {
   "cell_type": "code",
   "execution_count": 3,
   "id": "553a5034-df8c-4f14-9f58-403521ac81f0",
   "metadata": {},
   "outputs": [
    {
     "data": {
      "text/html": [
       "<div>\n",
       "<style scoped>\n",
       "    .dataframe tbody tr th:only-of-type {\n",
       "        vertical-align: middle;\n",
       "    }\n",
       "\n",
       "    .dataframe tbody tr th {\n",
       "        vertical-align: top;\n",
       "    }\n",
       "\n",
       "    .dataframe thead th {\n",
       "        text-align: right;\n",
       "    }\n",
       "</style>\n",
       "<table border=\"1\" class=\"dataframe\">\n",
       "  <thead>\n",
       "    <tr style=\"text-align: right;\">\n",
       "      <th></th>\n",
       "      <th>Age</th>\n",
       "      <th>EstimatedSalary</th>\n",
       "      <th>Purchased</th>\n",
       "    </tr>\n",
       "  </thead>\n",
       "  <tbody>\n",
       "    <tr>\n",
       "      <th>0</th>\n",
       "      <td>19</td>\n",
       "      <td>19000</td>\n",
       "      <td>0</td>\n",
       "    </tr>\n",
       "    <tr>\n",
       "      <th>1</th>\n",
       "      <td>35</td>\n",
       "      <td>20000</td>\n",
       "      <td>0</td>\n",
       "    </tr>\n",
       "    <tr>\n",
       "      <th>2</th>\n",
       "      <td>26</td>\n",
       "      <td>43000</td>\n",
       "      <td>0</td>\n",
       "    </tr>\n",
       "    <tr>\n",
       "      <th>3</th>\n",
       "      <td>27</td>\n",
       "      <td>57000</td>\n",
       "      <td>0</td>\n",
       "    </tr>\n",
       "    <tr>\n",
       "      <th>4</th>\n",
       "      <td>19</td>\n",
       "      <td>76000</td>\n",
       "      <td>0</td>\n",
       "    </tr>\n",
       "  </tbody>\n",
       "</table>\n",
       "</div>"
      ],
      "text/plain": [
       "   Age  EstimatedSalary  Purchased\n",
       "0   19            19000          0\n",
       "1   35            20000          0\n",
       "2   26            43000          0\n",
       "3   27            57000          0\n",
       "4   19            76000          0"
      ]
     },
     "execution_count": 3,
     "metadata": {},
     "output_type": "execute_result"
    }
   ],
   "source": [
    "import pandas as pd\n",
    "\n",
    "data = pd.read_csv('classification.csv')\n",
    "data.head()"
   ]
  },
  {
   "cell_type": "code",
   "execution_count": 4,
   "id": "a8bc454d-a906-42ca-a917-61ad40ad27ba",
   "metadata": {},
   "outputs": [
    {
     "name": "stdout",
     "output_type": "stream",
     "text": [
      "Gini index for age column: 0.9681124999999999\n"
     ]
    }
   ],
   "source": [
    "age_groups = data.groupby('Age')\n",
    "n = data.shape[0]\n",
    "gini_age = 0\n",
    "for group in age_groups:\n",
    "    p = len(group[1]) / n\n",
    "    gini_age += p * (1 - p)\n",
    "print(\"Gini index for age column:\", gini_age)\n"
   ]
  },
  {
   "cell_type": "code",
   "execution_count": 10,
   "id": "2f643279-42ad-4c9d-b7ee-66dcd31f2d3d",
   "metadata": {},
   "outputs": [
    {
     "name": "stdout",
     "output_type": "stream",
     "text": [
      "Gini index for salary column: 0.9874999999999985\n"
     ]
    }
   ],
   "source": [
    "salary_groups = data.groupby('EstimatedSalary')\n",
    "gini_salary = 0\n",
    "for group in salary_groups:\n",
    "    p = len(group[1]) / n\n",
    "    gini_salary += p * (1 - p)\n",
    "print(\"Gini index for salary column:\", gini_salary)"
   ]
  },
  {
   "cell_type": "code",
   "execution_count": 11,
   "id": "09bf359f-8a10-48e0-8622-82cd0e7caba2",
   "metadata": {},
   "outputs": [],
   "source": [
    "def build_tree(data):\n",
    "    if len(set(data['Purchased'])) == 1:\n",
    "        return data['Purchased'].iloc[0]\n",
    "    if data.shape[1] == 1:\n",
    "        return data['Purchased'].mode()[0]\n",
    "    best_feature = None\n",
    "    best_gini = 1\n",
    "    for feature in data.columns[:-1]:\n",
    "        feature_groups = data.groupby(feature)\n",
    "        gini = 0\n",
    "        for group in feature_groups:\n",
    "            p = len(group[1]) / n\n",
    "            gini += p * (1 - p)\n",
    "        if gini < best_gini:\n",
    "            best_gini = gini\n",
    "            best_feature = feature\n",
    "    tree = {best_feature: {}}\n",
    "    feature_values = data[best_feature].unique()\n",
    "    for value in feature_values:\n",
    "        sub_data = data[data[best_feature] == value].drop(best_feature, axis=1)\n",
    "        subtree = build_tree(sub_data)\n",
    "        tree[best_feature][value] = subtree\n",
    "    return tree\n",
    "\n",
    "tree = build_tree(data)"
   ]
  },
  {
   "cell_type": "code",
   "execution_count": 20,
   "id": "345b3ea3-c1b0-4440-807c-f995b10b6846",
   "metadata": {},
   "outputs": [
    {
     "name": "stdout",
     "output_type": "stream",
     "text": [
      "{'Age': 35, 'EstimatedSalary': 20000}\n",
      "{'Age': 35, 'EstimatedSalary': 20000}\n",
      "Predicted classification: 0\n"
     ]
    }
   ],
   "source": [
    "def predict(sample, tree):\n",
    "    for feature, subtree in tree.items():\n",
    "        print(sample)\n",
    "        value = sample[feature]\n",
    "        subtree = subtree[value]\n",
    "        if isinstance(subtree, dict):\n",
    "            return predict(sample, subtree)\n",
    "        else:\n",
    "            return subtree\n",
    "\n",
    "new_sample = {'Age': 35, 'EstimatedSalary': 20000}\n",
    "\n",
    "classification = predict(new_sample, tree)\n",
    "print(\"Predicted classification:\", classification)"
   ]
  },
  {
   "cell_type": "code",
   "execution_count": null,
   "id": "0faca010-a9fb-469b-b329-85d093def8d9",
   "metadata": {},
   "outputs": [],
   "source": []
  },
  {
   "cell_type": "code",
   "execution_count": null,
   "id": "494645f0-9d64-42a5-8295-5c3722963692",
   "metadata": {},
   "outputs": [],
   "source": []
  }
 ],
 "metadata": {
  "kernelspec": {
   "display_name": "Python 3 (ipykernel)",
   "language": "python",
   "name": "python3"
  },
  "language_info": {
   "codemirror_mode": {
    "name": "ipython",
    "version": 3
   },
   "file_extension": ".py",
   "mimetype": "text/x-python",
   "name": "python",
   "nbconvert_exporter": "python",
   "pygments_lexer": "ipython3",
   "version": "3.9.13"
  }
 },
 "nbformat": 4,
 "nbformat_minor": 5
}
