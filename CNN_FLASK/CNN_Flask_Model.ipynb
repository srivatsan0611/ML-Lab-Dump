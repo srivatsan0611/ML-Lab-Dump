{
 "cells": [
  {
   "cell_type": "code",
   "execution_count": 4,
   "id": "cf72ce79-d7fb-4d60-9d59-977ce96865cf",
   "metadata": {},
   "outputs": [],
   "source": [
    "import pandas as pd\n",
    "import numpy as np\n",
    "from tensorflow.keras import datasets,models\n",
    "from keras.layers import Conv2D, MaxPooling2D, Dense, Flatten, Dropout"
   ]
  },
  {
   "cell_type": "code",
   "execution_count": 18,
   "id": "c9f34683-8774-42f5-901d-7e9b3ed9c493",
   "metadata": {},
   "outputs": [],
   "source": [
    "(X_train,y_train), (X_test,y_test) = datasets.cifar10.load_data()"
   ]
  },
  {
   "cell_type": "code",
   "execution_count": 19,
   "id": "c6b97abf-d7fe-4111-8474-56c3c746a36c",
   "metadata": {},
   "outputs": [],
   "source": [
    "classes = [\"airplane\",\"automobile\",\"bird\",\"cat\",\"deer\",\"dog\",\"frog\",\"horse\",\"ship\",\"truck\"]"
   ]
  },
  {
   "cell_type": "code",
   "execution_count": 20,
   "id": "ee832a23-3b80-4857-ac5c-5c2c80b4655a",
   "metadata": {},
   "outputs": [],
   "source": [
    "y_train = y_train.reshape(-1,)\n",
    "y_test = y_test.reshape(-1,)"
   ]
  },
  {
   "cell_type": "code",
   "execution_count": 21,
   "id": "5ef82205-b4ad-44a7-919e-abbf9d82e8d3",
   "metadata": {},
   "outputs": [],
   "source": [
    "X_train = X_train/ 255\n",
    "X_test = X_test/ 255"
   ]
  },
  {
   "cell_type": "code",
   "execution_count": 43,
   "id": "36220483-ad0d-4bfa-94c5-29b76bba512c",
   "metadata": {},
   "outputs": [],
   "source": [
    "cnn = models.Sequential([\n",
    "    Conv2D(filters=64, kernel_size=(3, 3), activation='relu', input_shape=(32, 32, 3)),\n",
    "    MaxPooling2D((2, 2)),\n",
    "    \n",
    "    Conv2D(filters=64, kernel_size=(3, 3), activation='relu'),\n",
    "    MaxPooling2D((2, 2)),\n",
    "    \n",
    "    Conv2D(filters=128, kernel_size=(3, 3), activation='relu'),\n",
    "    MaxPooling2D((2, 2)),\n",
    "    Dropout(0.25),\n",
    "    \n",
    "    Flatten(),\n",
    "    Dense(128, activation='relu'),\n",
    "    Dense(64, activation='relu'),\n",
    "    Dense(10, activation='softmax')\n",
    "])"
   ]
  },
  {
   "cell_type": "code",
   "execution_count": 44,
   "id": "4c34c2d0-021d-4a38-9178-1622b2109abd",
   "metadata": {},
   "outputs": [],
   "source": [
    "cnn.compile(optimizer='adam',\n",
    "              loss='sparse_categorical_crossentropy',\n",
    "              metrics=['accuracy'])"
   ]
  },
  {
   "cell_type": "code",
   "execution_count": 45,
   "id": "df61b25d-32fb-4928-b767-d0e340d1cf6a",
   "metadata": {},
   "outputs": [
    {
     "name": "stdout",
     "output_type": "stream",
     "text": [
      "Epoch 1/10\n",
      "1563/1563 [==============================] - 12s 7ms/step - loss: 1.5890 - accuracy: 0.4133 - val_loss: 1.2699 - val_accuracy: 0.5409\n",
      "Epoch 2/10\n",
      "1563/1563 [==============================] - 10s 6ms/step - loss: 1.2313 - accuracy: 0.5596 - val_loss: 1.1123 - val_accuracy: 0.6064\n",
      "Epoch 3/10\n",
      "1563/1563 [==============================] - 10s 6ms/step - loss: 1.0912 - accuracy: 0.6140 - val_loss: 0.9782 - val_accuracy: 0.6538\n",
      "Epoch 4/10\n",
      "1563/1563 [==============================] - 10s 6ms/step - loss: 0.9881 - accuracy: 0.6501 - val_loss: 0.9860 - val_accuracy: 0.6603\n",
      "Epoch 5/10\n",
      "1563/1563 [==============================] - 10s 6ms/step - loss: 0.9158 - accuracy: 0.6761 - val_loss: 0.8885 - val_accuracy: 0.6851\n",
      "Epoch 6/10\n",
      "1563/1563 [==============================] - 10s 6ms/step - loss: 0.8643 - accuracy: 0.6961 - val_loss: 0.8995 - val_accuracy: 0.6870\n",
      "Epoch 7/10\n",
      "1563/1563 [==============================] - 10s 6ms/step - loss: 0.8258 - accuracy: 0.7103 - val_loss: 0.8533 - val_accuracy: 0.7042\n",
      "Epoch 8/10\n",
      "1563/1563 [==============================] - 10s 6ms/step - loss: 0.7863 - accuracy: 0.7233 - val_loss: 0.8895 - val_accuracy: 0.7023\n",
      "Epoch 9/10\n",
      "1563/1563 [==============================] - 10s 6ms/step - loss: 0.7474 - accuracy: 0.7347 - val_loss: 0.8193 - val_accuracy: 0.7160\n",
      "Epoch 10/10\n",
      "1563/1563 [==============================] - 10s 6ms/step - loss: 0.7202 - accuracy: 0.7450 - val_loss: 0.8237 - val_accuracy: 0.7193\n"
     ]
    }
   ],
   "source": [
    "history = cnn.fit(X_train, y_train, epochs=10,validation_data=(X_test,y_test))"
   ]
  },
  {
   "cell_type": "code",
   "execution_count": 46,
   "id": "4bc2c702-c972-465c-9407-3c63702edb58",
   "metadata": {},
   "outputs": [],
   "source": [
    "def show(X,y,index):\n",
    "    plt.figure(figsize=(15,3))\n",
    "    plt.imshow(X[index])\n",
    "    plt.xlabel(classes[y[index]])\n",
    "    plt.show()"
   ]
  },
  {
   "cell_type": "code",
   "execution_count": 48,
   "id": "f7d72891-8382-4db2-9a6b-3a586bfbe123",
   "metadata": {},
   "outputs": [
    {
     "name": "stdout",
     "output_type": "stream",
     "text": [
      "313/313 [==============================] - 1s 3ms/step - loss: 0.8237 - accuracy: 0.7193\n"
     ]
    },
    {
     "data": {
      "text/plain": [
       "[0.8236926794052124, 0.7192999720573425]"
      ]
     },
     "execution_count": 48,
     "metadata": {},
     "output_type": "execute_result"
    }
   ],
   "source": [
    "cnn.evaluate(X_test,y_test)"
   ]
  },
  {
   "cell_type": "code",
   "execution_count": 50,
   "id": "82e8833b-e73b-4f71-a1b6-7c48ad831fa8",
   "metadata": {},
   "outputs": [],
   "source": [
    "y_pred = cnn.predict(X_test)\n",
    "y_pred = [np.argmax(y) for y in y_pred]"
   ]
  },
  {
   "cell_type": "code",
   "execution_count": 52,
   "id": "e643546b-6745-4e5b-a377-e81709bc67c8",
   "metadata": {},
   "outputs": [
    {
     "data": {
      "image/png": "[encoded data removed]",
      "text/plain": [
       "<Figure size 1500x300 with 1 Axes>"
      ]
     },
     "metadata": {},
     "output_type": "display_data"
    }
   ],
   "source": [
    "import matplotlib.pyplot as plt\n",
    "show(X_test,y_test,3)"
   ]
  },
  {
   "cell_type": "code",
   "execution_count": 53,
   "id": "37796fa4-dbc6-41fe-8d0c-1b847f6d7575",
   "metadata": {},
   "outputs": [
    {
     "name": "stdout",
     "output_type": "stream",
     "text": [
      "Model Prediction is -> airplane\n"
     ]
    }
   ],
   "source": [
    "print(f\"Model Prediction is -> {classes[y_pred[3]]}\")"
   ]
  },
  {
   "cell_type": "code",
   "execution_count": 54,
   "id": "106d912b-0d33-4884-98cf-d679f80971d3",
   "metadata": {},
   "outputs": [],
   "source": [
    "cnn.save(\"CNN_Model.h5\")"
   ]
  },
  {
   "cell_type": "code",
   "execution_count": 62,
   "id": "aa992f37-2ff7-4980-85aa-e4c04230ff74",
   "metadata": {},
   "outputs": [
    {
     "name": "stderr",
     "output_type": "stream",
     "text": [
      "C:\\Users\\Srivatsan\\AppData\\Local\\Temp\\ipykernel_10104\\4146431620.py:2: DeprecationWarning: Starting with ImageIO v3 the behavior of this function will switch to that of iio.v3.imread. To keep the current behavior (and make this warning disappear) use `import imageio.v2 as imageio` or call `imageio.v2.imread` directly.\n",
      "  pic = ie.imread(\"sharini.png\")\n"
     ]
    }
   ],
   "source": [
    "import imageio as ie\n",
    "pic = ie.imread(\"sharini.png\")"
   ]
  },
  {
   "cell_type": "code",
   "execution_count": 63,
   "id": "2b9fe300-2a2a-4f52-a2c5-8b0548812d46",
   "metadata": {},
   "outputs": [
    {
     "data": {
      "text/plain": [
       "(24, 32, 4)"
      ]
     },
     "execution_count": 63,
     "metadata": {},
     "output_type": "execute_result"
    }
   ],
   "source": [
    "pic.shape"
   ]
  },
  {
   "cell_type": "code",
   "execution_count": 66,
   "id": "4394c164-99b9-407d-ae74-eab7dd0714b4",
   "metadata": {},
   "outputs": [
    {
     "name": "stderr",
     "output_type": "stream",
     "text": [
      "C:\\Users\\Srivatsan\\AppData\\Local\\Temp\\ipykernel_10104\\2678861504.py:1: DeprecationWarning: Starting with ImageIO v3 the behavior of this function will switch to that of iio.v3.imread. To keep the current behavior (and make this warning disappear) use `import imageio.v2 as imageio` or call `imageio.v2.imread` directly.\n",
      "  pic2 = ie.imread(\"sid.png\")\n"
     ]
    }
   ],
   "source": [
    "pic2 = ie.imread(\"sid.png\")"
   ]
  },
  {
   "cell_type": "code",
   "execution_count": 67,
   "id": "8321a16e-69cd-4221-830e-690523759367",
   "metadata": {},
   "outputs": [
    {
     "data": {
      "text/plain": [
       "(24, 32, 4)"
      ]
     },
     "execution_count": 67,
     "metadata": {},
     "output_type": "execute_result"
    }
   ],
   "source": [
    "pic2.shape"
   ]
  },
  {
   "cell_type": "code",
   "execution_count": 69,
   "id": "789effd9-420c-483d-a9cb-a5c9bbbc2c4f",
   "metadata": {},
   "outputs": [],
   "source": [
    "pic2 = pic2.reshape(1,32,32,3)\n",
    "prediction = cnn.predict(pic2)\n",
    "prediction = [np.argmax(p) for p in prediction]"
   ]
  },
  {
   "cell_type": "code",
   "execution_count": 70,
   "id": "f11d3be8-498e-4540-80d5-96821335d42b",
   "metadata": {},
   "outputs": [
    {
     "data": {
      "text/plain": [
       "[9]"
      ]
     },
     "execution_count": 70,
     "metadata": {},
     "output_type": "execute_result"
    }
   ],
   "source": [
    "prediction"
   ]
  },
  {
   "cell_type": "code",
   "execution_count": 71,
   "id": "0646b3ec-a6aa-457f-a8ca-a4c9dbb8340b",
   "metadata": {},
   "outputs": [
    {
     "data": {
      "image/png": "[encoded data removed]",
      "text/plain": [
       "<Figure size 1500x300 with 1 Axes>"
      ]
     },
     "metadata": {},
     "output_type": "display_data"
    }
   ],
   "source": [
    "show(X_test,y_test,5)"
   ]
  },
  {
   "cell_type": "code",
   "execution_count": 72,
   "id": "5e1858cf-9d66-439e-a4b1-05f71fdde5f3",
   "metadata": {},
   "outputs": [
    {
     "data": {
      "text/plain": [
       "'frog'"
      ]
     },
     "execution_count": 72,
     "metadata": {},
     "output_type": "execute_result"
    }
   ],
   "source": [
    "classes[y_pred[5]]"
   ]
  },
  {
   "cell_type": "code",
   "execution_count": null,
   "id": "70b1e2d9-b9a6-4647-877c-01b3793e2924",
   "metadata": {},
   "outputs": [],
   "source": []
  }
 ],
 "metadata": {
  "kernelspec": {
   "display_name": "Python 3 (ipykernel)",
   "language": "python",
   "name": "python3"
  },
  "language_info": {
   "codemirror_mode": {
    "name": "ipython",
    "version": 3
   },
   "file_extension": ".py",
   "mimetype": "text/x-python",
   "name": "python",
   "nbconvert_exporter": "python",
   "pygments_lexer": "ipython3",
   "version": "3.9.16"
  }
 },
 "nbformat": 4,
 "nbformat_minor": 5
}
