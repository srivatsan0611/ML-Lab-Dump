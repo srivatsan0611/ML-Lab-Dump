{
 "cells": [
  {
   "cell_type": "code",
   "execution_count": 1,
   "id": "de1eabd5-8bc8-44a1-9746-8c824b1a775d",
   "metadata": {},
   "outputs": [],
   "source": [
    "import numpy as np\n",
    "import pandas as pd\n",
    "from sklearn.linear_model import LinearRegression"
   ]
  },
  {
   "cell_type": "code",
   "execution_count": 2,
   "id": "35ae46a8-f288-4926-8764-e5047cd75d77",
   "metadata": {},
   "outputs": [],
   "source": [
    "np.random.seed(0)\n",
    "x = np.random.rand(1000)\n",
    "y = 5 * x + 10 + np.random.randn(1000)"
   ]
  },
  {
   "cell_type": "code",
   "execution_count": 4,
   "id": "f4142eff-3384-4619-9ca4-9b86f39b5f13",
   "metadata": {},
   "outputs": [],
   "source": [
    "m = 0\n",
    "c = 0\n",
    "lr = 0.01\n",
    "epochs = 1000\n",
    "n = float(len(x))"
   ]
  },
  {
   "cell_type": "code",
   "execution_count": 5,
   "id": "c8c8678e-340f-4d91-83d4-8ccb258b27a5",
   "metadata": {},
   "outputs": [],
   "source": [
    "def compute_cost(x, y, m, c):\n",
    "    total_cost = sum((y - (m * x + c)) ** 2)\n",
    "    return total_cost / n\n",
    "\n",
    "def gradient_descent(x, y, m, c, lr, epochs):\n",
    "    for i in range(epochs):\n",
    "        y_pred = m * x + c\n",
    "        m_gradient = (-2/n) * sum(x * (y - y_pred))\n",
    "        c_gradient = (-2/n) * sum(y - y_pred)\n",
    "        m = m - lr * m_gradient\n",
    "        c = c - lr * c_gradient\n",
    "    return m, c"
   ]
  },
  {
   "cell_type": "code",
   "execution_count": 6,
   "id": "8c248b26-af79-4597-b996-d04597f53971",
   "metadata": {},
   "outputs": [
    {
     "name": "stdout",
     "output_type": "stream",
     "text": [
      "Optimal slope value (from scratch): 4.995567111920624\n",
      "Optimal intercept value (from scratch): 10.027953411939833\n"
     ]
    }
   ],
   "source": [
    "m, c = gradient_descent(x, y, m, c, lr, epochs)\n",
    "\n",
    "print(\"Optimal slope value (from scratch):\", m)\n",
    "print(\"Optimal intercept value (from scratch):\", c)"
   ]
  },
  {
   "cell_type": "code",
   "execution_count": 7,
   "id": "4bb07509-caf8-4127-8351-4c8eb078ecc4",
   "metadata": {},
   "outputs": [
    {
     "name": "stdout",
     "output_type": "stream",
     "text": [
      "Best fit slope value (using sklearn): 4.902962337524005\n",
      "Best fit intercept value (using sklearn): 10.077167249324065\n",
      "Difference in slope value: 0.0926047743966194\n",
      "Difference in intercept value: 0.04921383738423124\n"
     ]
    }
   ],
   "source": [
    "reg = LinearRegression().fit(x.reshape(-1, 1), y)\n",
    "m_sklearn = reg.coef_[0]\n",
    "c_sklearn = reg.intercept_\n",
    "\n",
    "print(\"Best fit slope value (using sklearn):\", m_sklearn)\n",
    "print(\"Best fit intercept value (using sklearn):\", c_sklearn)\n",
    "\n",
    "print(\"Difference in slope value:\", abs(m - m_sklearn))\n",
    "print(\"Difference in intercept value:\", abs(c - c_sklearn))"
   ]
  },
  {
   "cell_type": "code",
   "execution_count": null,
   "id": "ea2f7a35-a984-4314-89ab-bd94f3aec107",
   "metadata": {},
   "outputs": [],
   "source": []
  }
 ],
 "metadata": {
  "kernelspec": {
   "display_name": "Python 3 (ipykernel)",
   "language": "python",
   "name": "python3"
  },
  "language_info": {
   "codemirror_mode": {
    "name": "ipython",
    "version": 3
   },
   "file_extension": ".py",
   "mimetype": "text/x-python",
   "name": "python",
   "nbconvert_exporter": "python",
   "pygments_lexer": "ipython3",
   "version": "3.9.13"
  }
 },
 "nbformat": 4,
 "nbformat_minor": 5
}
